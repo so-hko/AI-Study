{
 "cells": [
  {
   "cell_type": "code",
   "execution_count": 36,
   "metadata": {},
   "outputs": [],
   "source": [
    "from pytorch_tabnet.tab_model import TabNetClassifier\n",
    "\n",
    "import torch\n",
    "from sklearn.preprocessing import LabelEncoder\n",
    "from sklearn.metrics import roc_auc_score\n",
    "\n",
    "import pandas as pd\n",
    "import numpy as np\n",
    "np.random.seed(0)\n",
    "\n",
    "\n",
    "\n",
    "import os\n",
    "import wget\n",
    "from pathlib import Path\n",
    "\n",
    "from matplotlib import pyplot as plt\n",
    "%matplotlib inline"
   ]
  },
  {
   "cell_type": "code",
   "execution_count": 37,
   "metadata": {},
   "outputs": [
    {
     "name": "stdout",
     "output_type": "stream",
     "text": [
      "Device: cuda\n",
      "Current cuda device: 0\n",
      "Count of using GPUs: 1\n"
     ]
    }
   ],
   "source": [
    "import os\n",
    "os.environ[\"CUDA_DEVICE_ORDER\"]=\"PCI_BUS_ID\"\n",
    "device = torch.device(\"cuda\" if torch.cuda.is_available() else \"cpu\")\n",
    "\n",
    "print('Device:', device)\n",
    "print('Current cuda device:', torch.cuda.current_device())\n",
    "print('Count of using GPUs:', torch.cuda.device_count())"
   ]
  },
  {
   "cell_type": "markdown",
   "metadata": {},
   "source": [
    "# Download census-income dataset"
   ]
  },
  {
   "cell_type": "code",
   "execution_count": 38,
   "metadata": {},
   "outputs": [],
   "source": [
    "url = \"https://archive.ics.uci.edu/ml/machine-learning-databases/adult/adult.data\"\n",
    "dataset_name = 'census-income'\n",
    "out = Path(os.getcwd()+'/data/'+dataset_name+'.csv')"
   ]
  },
  {
   "cell_type": "code",
   "execution_count": 39,
   "metadata": {},
   "outputs": [
    {
     "name": "stdout",
     "output_type": "stream",
     "text": [
      "File already exists.\n"
     ]
    }
   ],
   "source": [
    "out.parent.mkdir(parents=True, exist_ok=True)\n",
    "if out.exists():\n",
    "    print(\"File already exists.\")\n",
    "else:\n",
    "    print(\"Downloading file...\")\n",
    "    wget.download(url, out.as_posix())"
   ]
  },
  {
   "cell_type": "markdown",
   "metadata": {},
   "source": [
    "# Load data and split"
   ]
  },
  {
   "cell_type": "code",
   "execution_count": 40,
   "metadata": {},
   "outputs": [],
   "source": [
    "train = pd.read_csv(out)\n",
    "target = ' <=50K'\n",
    "if \"Set\" not in train.columns:\n",
    "    train[\"Set\"] = np.random.choice([\"train\", \"valid\", \"test\"], p =[.8, .1, .1], size=(train.shape[0],))\n",
    "\n",
    "train_indices = train[train.Set==\"train\"].index\n",
    "valid_indices = train[train.Set==\"valid\"].index\n",
    "test_indices = train[train.Set==\"test\"].index"
   ]
  },
  {
   "cell_type": "code",
   "execution_count": 41,
   "metadata": {},
   "outputs": [
    {
     "data": {
      "text/html": [
       "<div>\n",
       "<style scoped>\n",
       "    .dataframe tbody tr th:only-of-type {\n",
       "        vertical-align: middle;\n",
       "    }\n",
       "\n",
       "    .dataframe tbody tr th {\n",
       "        vertical-align: top;\n",
       "    }\n",
       "\n",
       "    .dataframe thead th {\n",
       "        text-align: right;\n",
       "    }\n",
       "</style>\n",
       "<table border=\"1\" class=\"dataframe\">\n",
       "  <thead>\n",
       "    <tr style=\"text-align: right;\">\n",
       "      <th></th>\n",
       "      <th>39</th>\n",
       "      <th>State-gov</th>\n",
       "      <th>77516</th>\n",
       "      <th>Bachelors</th>\n",
       "      <th>13</th>\n",
       "      <th>Never-married</th>\n",
       "      <th>Adm-clerical</th>\n",
       "      <th>Not-in-family</th>\n",
       "      <th>White</th>\n",
       "      <th>Male</th>\n",
       "      <th>2174</th>\n",
       "      <th>0</th>\n",
       "      <th>40</th>\n",
       "      <th>United-States</th>\n",
       "      <th>&lt;=50K</th>\n",
       "      <th>Set</th>\n",
       "    </tr>\n",
       "  </thead>\n",
       "  <tbody>\n",
       "    <tr>\n",
       "      <th>0</th>\n",
       "      <td>50</td>\n",
       "      <td>Self-emp-not-inc</td>\n",
       "      <td>83311</td>\n",
       "      <td>Bachelors</td>\n",
       "      <td>13</td>\n",
       "      <td>Married-civ-spouse</td>\n",
       "      <td>Exec-managerial</td>\n",
       "      <td>Husband</td>\n",
       "      <td>White</td>\n",
       "      <td>Male</td>\n",
       "      <td>0</td>\n",
       "      <td>0</td>\n",
       "      <td>13</td>\n",
       "      <td>United-States</td>\n",
       "      <td>&lt;=50K</td>\n",
       "      <td>train</td>\n",
       "    </tr>\n",
       "    <tr>\n",
       "      <th>1</th>\n",
       "      <td>38</td>\n",
       "      <td>Private</td>\n",
       "      <td>215646</td>\n",
       "      <td>HS-grad</td>\n",
       "      <td>9</td>\n",
       "      <td>Divorced</td>\n",
       "      <td>Handlers-cleaners</td>\n",
       "      <td>Not-in-family</td>\n",
       "      <td>White</td>\n",
       "      <td>Male</td>\n",
       "      <td>0</td>\n",
       "      <td>0</td>\n",
       "      <td>40</td>\n",
       "      <td>United-States</td>\n",
       "      <td>&lt;=50K</td>\n",
       "      <td>train</td>\n",
       "    </tr>\n",
       "    <tr>\n",
       "      <th>2</th>\n",
       "      <td>53</td>\n",
       "      <td>Private</td>\n",
       "      <td>234721</td>\n",
       "      <td>11th</td>\n",
       "      <td>7</td>\n",
       "      <td>Married-civ-spouse</td>\n",
       "      <td>Handlers-cleaners</td>\n",
       "      <td>Husband</td>\n",
       "      <td>Black</td>\n",
       "      <td>Male</td>\n",
       "      <td>0</td>\n",
       "      <td>0</td>\n",
       "      <td>40</td>\n",
       "      <td>United-States</td>\n",
       "      <td>&lt;=50K</td>\n",
       "      <td>train</td>\n",
       "    </tr>\n",
       "    <tr>\n",
       "      <th>3</th>\n",
       "      <td>28</td>\n",
       "      <td>Private</td>\n",
       "      <td>338409</td>\n",
       "      <td>Bachelors</td>\n",
       "      <td>13</td>\n",
       "      <td>Married-civ-spouse</td>\n",
       "      <td>Prof-specialty</td>\n",
       "      <td>Wife</td>\n",
       "      <td>Black</td>\n",
       "      <td>Female</td>\n",
       "      <td>0</td>\n",
       "      <td>0</td>\n",
       "      <td>40</td>\n",
       "      <td>Cuba</td>\n",
       "      <td>&lt;=50K</td>\n",
       "      <td>train</td>\n",
       "    </tr>\n",
       "    <tr>\n",
       "      <th>4</th>\n",
       "      <td>37</td>\n",
       "      <td>Private</td>\n",
       "      <td>284582</td>\n",
       "      <td>Masters</td>\n",
       "      <td>14</td>\n",
       "      <td>Married-civ-spouse</td>\n",
       "      <td>Exec-managerial</td>\n",
       "      <td>Wife</td>\n",
       "      <td>White</td>\n",
       "      <td>Female</td>\n",
       "      <td>0</td>\n",
       "      <td>0</td>\n",
       "      <td>40</td>\n",
       "      <td>United-States</td>\n",
       "      <td>&lt;=50K</td>\n",
       "      <td>train</td>\n",
       "    </tr>\n",
       "    <tr>\n",
       "      <th>...</th>\n",
       "      <td>...</td>\n",
       "      <td>...</td>\n",
       "      <td>...</td>\n",
       "      <td>...</td>\n",
       "      <td>...</td>\n",
       "      <td>...</td>\n",
       "      <td>...</td>\n",
       "      <td>...</td>\n",
       "      <td>...</td>\n",
       "      <td>...</td>\n",
       "      <td>...</td>\n",
       "      <td>...</td>\n",
       "      <td>...</td>\n",
       "      <td>...</td>\n",
       "      <td>...</td>\n",
       "      <td>...</td>\n",
       "    </tr>\n",
       "    <tr>\n",
       "      <th>32555</th>\n",
       "      <td>27</td>\n",
       "      <td>Private</td>\n",
       "      <td>257302</td>\n",
       "      <td>Assoc-acdm</td>\n",
       "      <td>12</td>\n",
       "      <td>Married-civ-spouse</td>\n",
       "      <td>Tech-support</td>\n",
       "      <td>Wife</td>\n",
       "      <td>White</td>\n",
       "      <td>Female</td>\n",
       "      <td>0</td>\n",
       "      <td>0</td>\n",
       "      <td>38</td>\n",
       "      <td>United-States</td>\n",
       "      <td>&lt;=50K</td>\n",
       "      <td>train</td>\n",
       "    </tr>\n",
       "    <tr>\n",
       "      <th>32556</th>\n",
       "      <td>40</td>\n",
       "      <td>Private</td>\n",
       "      <td>154374</td>\n",
       "      <td>HS-grad</td>\n",
       "      <td>9</td>\n",
       "      <td>Married-civ-spouse</td>\n",
       "      <td>Machine-op-inspct</td>\n",
       "      <td>Husband</td>\n",
       "      <td>White</td>\n",
       "      <td>Male</td>\n",
       "      <td>0</td>\n",
       "      <td>0</td>\n",
       "      <td>40</td>\n",
       "      <td>United-States</td>\n",
       "      <td>&gt;50K</td>\n",
       "      <td>valid</td>\n",
       "    </tr>\n",
       "    <tr>\n",
       "      <th>32557</th>\n",
       "      <td>58</td>\n",
       "      <td>Private</td>\n",
       "      <td>151910</td>\n",
       "      <td>HS-grad</td>\n",
       "      <td>9</td>\n",
       "      <td>Widowed</td>\n",
       "      <td>Adm-clerical</td>\n",
       "      <td>Unmarried</td>\n",
       "      <td>White</td>\n",
       "      <td>Female</td>\n",
       "      <td>0</td>\n",
       "      <td>0</td>\n",
       "      <td>40</td>\n",
       "      <td>United-States</td>\n",
       "      <td>&lt;=50K</td>\n",
       "      <td>train</td>\n",
       "    </tr>\n",
       "    <tr>\n",
       "      <th>32558</th>\n",
       "      <td>22</td>\n",
       "      <td>Private</td>\n",
       "      <td>201490</td>\n",
       "      <td>HS-grad</td>\n",
       "      <td>9</td>\n",
       "      <td>Never-married</td>\n",
       "      <td>Adm-clerical</td>\n",
       "      <td>Own-child</td>\n",
       "      <td>White</td>\n",
       "      <td>Male</td>\n",
       "      <td>0</td>\n",
       "      <td>0</td>\n",
       "      <td>20</td>\n",
       "      <td>United-States</td>\n",
       "      <td>&lt;=50K</td>\n",
       "      <td>train</td>\n",
       "    </tr>\n",
       "    <tr>\n",
       "      <th>32559</th>\n",
       "      <td>52</td>\n",
       "      <td>Self-emp-inc</td>\n",
       "      <td>287927</td>\n",
       "      <td>HS-grad</td>\n",
       "      <td>9</td>\n",
       "      <td>Married-civ-spouse</td>\n",
       "      <td>Exec-managerial</td>\n",
       "      <td>Wife</td>\n",
       "      <td>White</td>\n",
       "      <td>Female</td>\n",
       "      <td>15024</td>\n",
       "      <td>0</td>\n",
       "      <td>40</td>\n",
       "      <td>United-States</td>\n",
       "      <td>&gt;50K</td>\n",
       "      <td>train</td>\n",
       "    </tr>\n",
       "  </tbody>\n",
       "</table>\n",
       "<p>32560 rows × 16 columns</p>\n",
       "</div>"
      ],
      "text/plain": [
       "       39          State-gov   77516    Bachelors   13        Never-married  \\\n",
       "0      50   Self-emp-not-inc   83311    Bachelors   13   Married-civ-spouse   \n",
       "1      38            Private  215646      HS-grad    9             Divorced   \n",
       "2      53            Private  234721         11th    7   Married-civ-spouse   \n",
       "3      28            Private  338409    Bachelors   13   Married-civ-spouse   \n",
       "4      37            Private  284582      Masters   14   Married-civ-spouse   \n",
       "...    ..                ...     ...          ...  ...                  ...   \n",
       "32555  27            Private  257302   Assoc-acdm   12   Married-civ-spouse   \n",
       "32556  40            Private  154374      HS-grad    9   Married-civ-spouse   \n",
       "32557  58            Private  151910      HS-grad    9              Widowed   \n",
       "32558  22            Private  201490      HS-grad    9        Never-married   \n",
       "32559  52       Self-emp-inc  287927      HS-grad    9   Married-civ-spouse   \n",
       "\n",
       "             Adm-clerical   Not-in-family   White     Male   2174   0   40  \\\n",
       "0         Exec-managerial         Husband   White     Male      0   0   13   \n",
       "1       Handlers-cleaners   Not-in-family   White     Male      0   0   40   \n",
       "2       Handlers-cleaners         Husband   Black     Male      0   0   40   \n",
       "3          Prof-specialty            Wife   Black   Female      0   0   40   \n",
       "4         Exec-managerial            Wife   White   Female      0   0   40   \n",
       "...                   ...             ...     ...      ...    ...  ..  ...   \n",
       "32555        Tech-support            Wife   White   Female      0   0   38   \n",
       "32556   Machine-op-inspct         Husband   White     Male      0   0   40   \n",
       "32557        Adm-clerical       Unmarried   White   Female      0   0   40   \n",
       "32558        Adm-clerical       Own-child   White     Male      0   0   20   \n",
       "32559     Exec-managerial            Wife   White   Female  15024   0   40   \n",
       "\n",
       "        United-States   <=50K    Set  \n",
       "0       United-States   <=50K  train  \n",
       "1       United-States   <=50K  train  \n",
       "2       United-States   <=50K  train  \n",
       "3                Cuba   <=50K  train  \n",
       "4       United-States   <=50K  train  \n",
       "...               ...     ...    ...  \n",
       "32555   United-States   <=50K  train  \n",
       "32556   United-States    >50K  valid  \n",
       "32557   United-States   <=50K  train  \n",
       "32558   United-States   <=50K  train  \n",
       "32559   United-States    >50K  train  \n",
       "\n",
       "[32560 rows x 16 columns]"
      ]
     },
     "execution_count": 41,
     "metadata": {},
     "output_type": "execute_result"
    }
   ],
   "source": [
    "train"
   ]
  },
  {
   "cell_type": "markdown",
   "metadata": {},
   "source": [
    "# Simple preprocessing\n",
    "\n",
    "Label encode categorical features and fill empty cells."
   ]
  },
  {
   "cell_type": "code",
   "execution_count": 42,
   "metadata": {},
   "outputs": [
    {
     "name": "stdout",
     "output_type": "stream",
     "text": [
      "39 73\n",
      " State-gov 9\n",
      " Bachelors 16\n",
      " 13 16\n",
      " Never-married 7\n",
      " Adm-clerical 15\n",
      " Not-in-family 6\n",
      " White 5\n",
      " Male 2\n",
      " 2174 119\n",
      " 0 92\n",
      " 40 94\n",
      " United-States 42\n",
      " <=50K 2\n",
      "Set 3\n"
     ]
    }
   ],
   "source": [
    "nunique = train.nunique()\n",
    "types = train.dtypes\n",
    "\n",
    "categorical_columns = []\n",
    "categorical_dims =  {}\n",
    "for col in train.columns:\n",
    "    if types[col] == 'object' or nunique[col] < 200:\n",
    "        print(col, train[col].nunique())\n",
    "        l_enc = LabelEncoder()\n",
    "        train[col] = train[col].fillna(\"VV_likely\")\n",
    "        train[col] = l_enc.fit_transform(train[col].values)\n",
    "        categorical_columns.append(col)\n",
    "        categorical_dims[col] = len(l_enc.classes_)\n",
    "    else:\n",
    "        train.fillna(train.loc[train_indices, col].mean(), inplace=True)"
   ]
  },
  {
   "cell_type": "code",
   "execution_count": 43,
   "metadata": {},
   "outputs": [],
   "source": [
    "# check that pipeline accepts strings\n",
    "train.loc[train[target]==0, target] = \"wealthy\"\n",
    "train.loc[train[target]==1, target] = \"not_wealthy\""
   ]
  },
  {
   "cell_type": "markdown",
   "metadata": {},
   "source": [
    "# Define categorical features for categorical embeddings"
   ]
  },
  {
   "cell_type": "code",
   "execution_count": 44,
   "metadata": {},
   "outputs": [
    {
     "name": "stdout",
     "output_type": "stream",
     "text": [
      " <=50K\n"
     ]
    }
   ],
   "source": [
    "print(target)"
   ]
  },
  {
   "cell_type": "code",
   "execution_count": 45,
   "metadata": {},
   "outputs": [],
   "source": [
    "unused_feat = ['Set']\n",
    "\n",
    "features = [ col for col in train.columns if col not in unused_feat+[target]] \n",
    "\n",
    "cat_idxs = [ i for i, f in enumerate(features) if f in categorical_columns]\n",
    "\n",
    "cat_dims = [ categorical_dims[f] for i, f in enumerate(features) if f in categorical_columns]\n"
   ]
  },
  {
   "cell_type": "code",
   "execution_count": 46,
   "metadata": {},
   "outputs": [
    {
     "data": {
      "text/plain": [
       "[0, 1, 3, 4, 5, 6, 7, 8, 9, 10, 11, 12, 13]"
      ]
     },
     "execution_count": 46,
     "metadata": {},
     "output_type": "execute_result"
    }
   ],
   "source": [
    "cat_idxs"
   ]
  },
  {
   "cell_type": "code",
   "execution_count": 47,
   "metadata": {},
   "outputs": [
    {
     "data": {
      "text/plain": [
       "[73, 9, 16, 16, 7, 15, 6, 5, 2, 119, 92, 94, 42]"
      ]
     },
     "execution_count": 47,
     "metadata": {},
     "output_type": "execute_result"
    }
   ],
   "source": [
    "cat_dims"
   ]
  },
  {
   "cell_type": "code",
   "execution_count": 48,
   "metadata": {},
   "outputs": [
    {
     "data": {
      "text/plain": [
       "['39',\n",
       " ' State-gov',\n",
       " ' Bachelors',\n",
       " ' 13',\n",
       " ' Never-married',\n",
       " ' Adm-clerical',\n",
       " ' Not-in-family',\n",
       " ' White',\n",
       " ' Male',\n",
       " ' 2174',\n",
       " ' 0',\n",
       " ' 40',\n",
       " ' United-States',\n",
       " ' <=50K',\n",
       " 'Set']"
      ]
     },
     "execution_count": 48,
     "metadata": {},
     "output_type": "execute_result"
    }
   ],
   "source": [
    "categorical_columns"
   ]
  },
  {
   "cell_type": "code",
   "execution_count": 49,
   "metadata": {},
   "outputs": [
    {
     "data": {
      "text/plain": [
       "{'39': 73,\n",
       " ' State-gov': 9,\n",
       " ' Bachelors': 16,\n",
       " ' 13': 16,\n",
       " ' Never-married': 7,\n",
       " ' Adm-clerical': 15,\n",
       " ' Not-in-family': 6,\n",
       " ' White': 5,\n",
       " ' Male': 2,\n",
       " ' 2174': 119,\n",
       " ' 0': 92,\n",
       " ' 40': 94,\n",
       " ' United-States': 42,\n",
       " ' <=50K': 2,\n",
       " 'Set': 3}"
      ]
     },
     "execution_count": 49,
     "metadata": {},
     "output_type": "execute_result"
    }
   ],
   "source": [
    "categorical_dims"
   ]
  },
  {
   "cell_type": "markdown",
   "metadata": {},
   "source": [
    "# Network parameters"
   ]
  },
  {
   "cell_type": "code",
   "execution_count": 50,
   "metadata": {},
   "outputs": [
    {
     "name": "stdout",
     "output_type": "stream",
     "text": [
      "Device used : cuda\n"
     ]
    }
   ],
   "source": [
    "tabnet_params = {\"cat_idxs\":[],\n",
    "                 \"cat_dims\":[],\n",
    "                 \"cat_emb_dim\":1,\n",
    "                 \"optimizer_fn\":torch.optim.Adam,\n",
    "                 \"optimizer_params\":dict(lr=2e-2),\n",
    "                 \"scheduler_params\":{\"step_size\":50, # how to use learning rate scheduler\n",
    "                                 \"gamma\":0.9},\n",
    "                 \"scheduler_fn\":torch.optim.lr_scheduler.StepLR,\n",
    "                 \"mask_type\":'entmax' # \"sparsemax\"\n",
    "                }\n",
    "\n",
    "clf = TabNetClassifier(**tabnet_params\n",
    ")"
   ]
  },
  {
   "cell_type": "code",
   "execution_count": 51,
   "metadata": {},
   "outputs": [
    {
     "name": "stdout",
     "output_type": "stream",
     "text": [
      "Tue Feb 15 11:47:03 2022       \n",
      "+-----------------------------------------------------------------------------+\n",
      "| NVIDIA-SMI 496.13       Driver Version: 496.13       CUDA Version: 11.5     |\n",
      "|-------------------------------+----------------------+----------------------+\n",
      "| GPU  Name            TCC/WDDM | Bus-Id        Disp.A | Volatile Uncorr. ECC |\n",
      "| Fan  Temp  Perf  Pwr:Usage/Cap|         Memory-Usage | GPU-Util  Compute M. |\n",
      "|                               |                      |               MIG M. |\n",
      "|===============================+======================+======================|\n",
      "|   0  NVIDIA GeForce ... WDDM  | 00000000:07:00.0  On |                  N/A |\n",
      "|  0%   49C    P3    48W / 270W |   6058MiB /  8192MiB |      7%      Default |\n",
      "|                               |                      |                  N/A |\n",
      "+-------------------------------+----------------------+----------------------+\n",
      "                                                                               \n",
      "+-----------------------------------------------------------------------------+\n",
      "| Processes:                                                                  |\n",
      "|  GPU   GI   CI        PID   Type   Process name                  GPU Memory |\n",
      "|        ID   ID                                                   Usage      |\n",
      "|=============================================================================|\n",
      "|    0   N/A  N/A      1188    C+G   Insufficient Permissions        N/A      |\n",
      "|    0   N/A  N/A      2120    C+G   C:\\Windows\\explorer.exe         N/A      |\n",
      "|    0   N/A  N/A      3120    C+G   ...wekyb3d8bbwe\\Video.UI.exe    N/A      |\n",
      "|    0   N/A  N/A      4944    C+G   ...e\\root\\Office16\\EXCEL.EXE    N/A      |\n",
      "|    0   N/A  N/A     10632    C+G   ...5n1h2txyewy\\SearchApp.exe    N/A      |\n",
      "|    0   N/A  N/A     12556    C+G   ...\\PowerToys.FancyZones.exe    N/A      |\n",
      "|    0   N/A  N/A     12568    C+G   Insufficient Permissions        N/A      |\n",
      "|    0   N/A  N/A     17712    C+G   ...ekyb3d8bbwe\\YourPhone.exe    N/A      |\n",
      "|    0   N/A  N/A     18032    C+G   ...t\\Teams\\current\\Teams.exe    N/A      |\n",
      "|    0   N/A  N/A     18512    C+G   ...100\\Bin\\HNetCom.Agent.exe    N/A      |\n",
      "|    0   N/A  N/A     19288    C+G   ...nputApp\\TextInputHost.exe    N/A      |\n",
      "|    0   N/A  N/A     19488    C+G   ...lack\\app-4.23.0\\slack.exe    N/A      |\n",
      "|    0   N/A  N/A     20052    C+G   ...8wekyb3d8bbwe\\Cortana.exe    N/A      |\n",
      "|    0   N/A  N/A     20256    C+G   ...auncher\\PowerLauncher.exe    N/A      |\n",
      "|    0   N/A  N/A     21280    C+G   ...t\\Teams\\current\\Teams.exe    N/A      |\n",
      "|    0   N/A  N/A     21320    C+G   ...artMenuExperienceHost.exe    N/A      |\n",
      "|    0   N/A  N/A     21432    C+G   ...icrosoft VS Code\\Code.exe    N/A      |\n",
      "|    0   N/A  N/A     21536    C+G   ...me\\Application\\chrome.exe    N/A      |\n",
      "|    0   N/A  N/A     21732      C   ...a3\\envs\\tf_gpu\\python.exe    N/A      |\n",
      "|    0   N/A  N/A     23380    C+G   Insufficient Permissions        N/A      |\n",
      "|    0   N/A  N/A     25960    C+G   ...perience\\NVIDIA Share.exe    N/A      |\n",
      "|    0   N/A  N/A     26044    C+G   ...root\\Office16\\WINWORD.EXE    N/A      |\n",
      "|    0   N/A  N/A     27280    C+G   ...18\\HOffice100\\Bin\\Hwp.exe    N/A      |\n",
      "|    0   N/A  N/A     27356      C   ...a3\\envs\\tf_gpu\\python.exe    N/A      |\n",
      "|    0   N/A  N/A     30288    C+G   ...108.43\\msedgewebview2.exe    N/A      |\n",
      "|    0   N/A  N/A     31304    C+G   ...8bbwe\\Microsoft.Notes.exe    N/A      |\n",
      "|    0   N/A  N/A     33412    C+G   ...5.0.3.0\\GoogleDriveFS.exe    N/A      |\n",
      "|    0   N/A  N/A     34096    C+G   ...y\\ShellExperienceHost.exe    N/A      |\n",
      "|    0   N/A  N/A     35472      C   ...a3\\envs\\tf_gpu\\python.exe    N/A      |\n",
      "+-----------------------------------------------------------------------------+\n"
     ]
    }
   ],
   "source": [
    "!nvidia-smi"
   ]
  },
  {
   "cell_type": "markdown",
   "metadata": {},
   "source": [
    "# Training"
   ]
  },
  {
   "cell_type": "code",
   "execution_count": 52,
   "metadata": {},
   "outputs": [],
   "source": [
    "X_train = train[features].values[train_indices]\n",
    "y_train = train[target].values[train_indices]\n",
    "\n",
    "X_valid = train[features].values[valid_indices]\n",
    "y_valid = train[target].values[valid_indices]\n",
    "\n",
    "X_test = train[features].values[test_indices]\n",
    "y_test = train[target].values[test_indices]"
   ]
  },
  {
   "cell_type": "code",
   "execution_count": 53,
   "metadata": {},
   "outputs": [
    {
     "data": {
      "text/html": [
       "<div>\n",
       "<style scoped>\n",
       "    .dataframe tbody tr th:only-of-type {\n",
       "        vertical-align: middle;\n",
       "    }\n",
       "\n",
       "    .dataframe tbody tr th {\n",
       "        vertical-align: top;\n",
       "    }\n",
       "\n",
       "    .dataframe thead th {\n",
       "        text-align: right;\n",
       "    }\n",
       "</style>\n",
       "<table border=\"1\" class=\"dataframe\">\n",
       "  <thead>\n",
       "    <tr style=\"text-align: right;\">\n",
       "      <th></th>\n",
       "      <th>39</th>\n",
       "      <th>State-gov</th>\n",
       "      <th>77516</th>\n",
       "      <th>Bachelors</th>\n",
       "      <th>13</th>\n",
       "      <th>Never-married</th>\n",
       "      <th>Adm-clerical</th>\n",
       "      <th>Not-in-family</th>\n",
       "      <th>White</th>\n",
       "      <th>Male</th>\n",
       "      <th>2174</th>\n",
       "      <th>0</th>\n",
       "      <th>40</th>\n",
       "      <th>United-States</th>\n",
       "    </tr>\n",
       "  </thead>\n",
       "  <tbody>\n",
       "    <tr>\n",
       "      <th>0</th>\n",
       "      <td>33</td>\n",
       "      <td>6</td>\n",
       "      <td>83311</td>\n",
       "      <td>9</td>\n",
       "      <td>12</td>\n",
       "      <td>2</td>\n",
       "      <td>4</td>\n",
       "      <td>0</td>\n",
       "      <td>4</td>\n",
       "      <td>1</td>\n",
       "      <td>0</td>\n",
       "      <td>0</td>\n",
       "      <td>12</td>\n",
       "      <td>39</td>\n",
       "    </tr>\n",
       "    <tr>\n",
       "      <th>1</th>\n",
       "      <td>21</td>\n",
       "      <td>4</td>\n",
       "      <td>215646</td>\n",
       "      <td>11</td>\n",
       "      <td>8</td>\n",
       "      <td>0</td>\n",
       "      <td>6</td>\n",
       "      <td>1</td>\n",
       "      <td>4</td>\n",
       "      <td>1</td>\n",
       "      <td>0</td>\n",
       "      <td>0</td>\n",
       "      <td>39</td>\n",
       "      <td>39</td>\n",
       "    </tr>\n",
       "    <tr>\n",
       "      <th>2</th>\n",
       "      <td>36</td>\n",
       "      <td>4</td>\n",
       "      <td>234721</td>\n",
       "      <td>1</td>\n",
       "      <td>6</td>\n",
       "      <td>2</td>\n",
       "      <td>6</td>\n",
       "      <td>0</td>\n",
       "      <td>2</td>\n",
       "      <td>1</td>\n",
       "      <td>0</td>\n",
       "      <td>0</td>\n",
       "      <td>39</td>\n",
       "      <td>39</td>\n",
       "    </tr>\n",
       "    <tr>\n",
       "      <th>3</th>\n",
       "      <td>11</td>\n",
       "      <td>4</td>\n",
       "      <td>338409</td>\n",
       "      <td>9</td>\n",
       "      <td>12</td>\n",
       "      <td>2</td>\n",
       "      <td>10</td>\n",
       "      <td>5</td>\n",
       "      <td>2</td>\n",
       "      <td>0</td>\n",
       "      <td>0</td>\n",
       "      <td>0</td>\n",
       "      <td>39</td>\n",
       "      <td>5</td>\n",
       "    </tr>\n",
       "    <tr>\n",
       "      <th>4</th>\n",
       "      <td>20</td>\n",
       "      <td>4</td>\n",
       "      <td>284582</td>\n",
       "      <td>12</td>\n",
       "      <td>13</td>\n",
       "      <td>2</td>\n",
       "      <td>4</td>\n",
       "      <td>5</td>\n",
       "      <td>4</td>\n",
       "      <td>0</td>\n",
       "      <td>0</td>\n",
       "      <td>0</td>\n",
       "      <td>39</td>\n",
       "      <td>39</td>\n",
       "    </tr>\n",
       "    <tr>\n",
       "      <th>...</th>\n",
       "      <td>...</td>\n",
       "      <td>...</td>\n",
       "      <td>...</td>\n",
       "      <td>...</td>\n",
       "      <td>...</td>\n",
       "      <td>...</td>\n",
       "      <td>...</td>\n",
       "      <td>...</td>\n",
       "      <td>...</td>\n",
       "      <td>...</td>\n",
       "      <td>...</td>\n",
       "      <td>...</td>\n",
       "      <td>...</td>\n",
       "      <td>...</td>\n",
       "    </tr>\n",
       "    <tr>\n",
       "      <th>32555</th>\n",
       "      <td>10</td>\n",
       "      <td>4</td>\n",
       "      <td>257302</td>\n",
       "      <td>7</td>\n",
       "      <td>11</td>\n",
       "      <td>2</td>\n",
       "      <td>13</td>\n",
       "      <td>5</td>\n",
       "      <td>4</td>\n",
       "      <td>0</td>\n",
       "      <td>0</td>\n",
       "      <td>0</td>\n",
       "      <td>37</td>\n",
       "      <td>39</td>\n",
       "    </tr>\n",
       "    <tr>\n",
       "      <th>32556</th>\n",
       "      <td>23</td>\n",
       "      <td>4</td>\n",
       "      <td>154374</td>\n",
       "      <td>11</td>\n",
       "      <td>8</td>\n",
       "      <td>2</td>\n",
       "      <td>7</td>\n",
       "      <td>0</td>\n",
       "      <td>4</td>\n",
       "      <td>1</td>\n",
       "      <td>0</td>\n",
       "      <td>0</td>\n",
       "      <td>39</td>\n",
       "      <td>39</td>\n",
       "    </tr>\n",
       "    <tr>\n",
       "      <th>32557</th>\n",
       "      <td>41</td>\n",
       "      <td>4</td>\n",
       "      <td>151910</td>\n",
       "      <td>11</td>\n",
       "      <td>8</td>\n",
       "      <td>6</td>\n",
       "      <td>1</td>\n",
       "      <td>4</td>\n",
       "      <td>4</td>\n",
       "      <td>0</td>\n",
       "      <td>0</td>\n",
       "      <td>0</td>\n",
       "      <td>39</td>\n",
       "      <td>39</td>\n",
       "    </tr>\n",
       "    <tr>\n",
       "      <th>32558</th>\n",
       "      <td>5</td>\n",
       "      <td>4</td>\n",
       "      <td>201490</td>\n",
       "      <td>11</td>\n",
       "      <td>8</td>\n",
       "      <td>4</td>\n",
       "      <td>1</td>\n",
       "      <td>3</td>\n",
       "      <td>4</td>\n",
       "      <td>1</td>\n",
       "      <td>0</td>\n",
       "      <td>0</td>\n",
       "      <td>19</td>\n",
       "      <td>39</td>\n",
       "    </tr>\n",
       "    <tr>\n",
       "      <th>32559</th>\n",
       "      <td>35</td>\n",
       "      <td>5</td>\n",
       "      <td>287927</td>\n",
       "      <td>11</td>\n",
       "      <td>8</td>\n",
       "      <td>2</td>\n",
       "      <td>4</td>\n",
       "      <td>5</td>\n",
       "      <td>4</td>\n",
       "      <td>0</td>\n",
       "      <td>108</td>\n",
       "      <td>0</td>\n",
       "      <td>39</td>\n",
       "      <td>39</td>\n",
       "    </tr>\n",
       "  </tbody>\n",
       "</table>\n",
       "<p>32560 rows × 14 columns</p>\n",
       "</div>"
      ],
      "text/plain": [
       "       39   State-gov   77516   Bachelors   13   Never-married   Adm-clerical  \\\n",
       "0      33           6   83311           9   12               2              4   \n",
       "1      21           4  215646          11    8               0              6   \n",
       "2      36           4  234721           1    6               2              6   \n",
       "3      11           4  338409           9   12               2             10   \n",
       "4      20           4  284582          12   13               2              4   \n",
       "...    ..         ...     ...         ...  ...             ...            ...   \n",
       "32555  10           4  257302           7   11               2             13   \n",
       "32556  23           4  154374          11    8               2              7   \n",
       "32557  41           4  151910          11    8               6              1   \n",
       "32558   5           4  201490          11    8               4              1   \n",
       "32559  35           5  287927          11    8               2              4   \n",
       "\n",
       "        Not-in-family   White   Male   2174   0   40   United-States  \n",
       "0                   0       4      1      0   0   12              39  \n",
       "1                   1       4      1      0   0   39              39  \n",
       "2                   0       2      1      0   0   39              39  \n",
       "3                   5       2      0      0   0   39               5  \n",
       "4                   5       4      0      0   0   39              39  \n",
       "...               ...     ...    ...    ...  ..  ...             ...  \n",
       "32555               5       4      0      0   0   37              39  \n",
       "32556               0       4      1      0   0   39              39  \n",
       "32557               4       4      0      0   0   39              39  \n",
       "32558               3       4      1      0   0   19              39  \n",
       "32559               5       4      0    108   0   39              39  \n",
       "\n",
       "[32560 rows x 14 columns]"
      ]
     },
     "execution_count": 53,
     "metadata": {},
     "output_type": "execute_result"
    }
   ],
   "source": [
    "train[features]"
   ]
  },
  {
   "cell_type": "code",
   "execution_count": 54,
   "metadata": {},
   "outputs": [],
   "source": [
    "max_epochs = 100 if not os.getenv(\"CI\", False) else 2"
   ]
  },
  {
   "cell_type": "code",
   "execution_count": 55,
   "metadata": {
    "scrolled": true
   },
   "outputs": [
    {
     "name": "stdout",
     "output_type": "stream",
     "text": [
      "epoch 0  | loss: 0.53703 | train_auc: 0.50676 | valid_auc: 0.50958 |  0:00:01s\n",
      "epoch 1  | loss: 0.43094 | train_auc: 0.70242 | valid_auc: 0.69362 |  0:00:02s\n",
      "epoch 2  | loss: 0.40915 | train_auc: 0.75966 | valid_auc: 0.74888 |  0:00:03s\n",
      "epoch 3  | loss: 0.39796 | train_auc: 0.7935  | valid_auc: 0.77988 |  0:00:04s\n",
      "epoch 4  | loss: 0.39154 | train_auc: 0.85257 | valid_auc: 0.85305 |  0:00:05s\n",
      "epoch 5  | loss: 0.38714 | train_auc: 0.87421 | valid_auc: 0.87568 |  0:00:06s\n",
      "epoch 6  | loss: 0.38429 | train_auc: 0.88999 | valid_auc: 0.89276 |  0:00:07s\n",
      "epoch 7  | loss: 0.38529 | train_auc: 0.90447 | valid_auc: 0.90704 |  0:00:08s\n",
      "epoch 8  | loss: 0.38437 | train_auc: 0.90357 | valid_auc: 0.90451 |  0:00:10s\n",
      "epoch 9  | loss: 0.37512 | train_auc: 0.90797 | valid_auc: 0.90898 |  0:00:11s\n",
      "epoch 10 | loss: 0.37931 | train_auc: 0.90918 | valid_auc: 0.90992 |  0:00:12s\n",
      "epoch 11 | loss: 0.37629 | train_auc: 0.91161 | valid_auc: 0.91295 |  0:00:13s\n",
      "epoch 12 | loss: 0.37298 | train_auc: 0.9129  | valid_auc: 0.91292 |  0:00:14s\n",
      "epoch 13 | loss: 0.37417 | train_auc: 0.91239 | valid_auc: 0.91356 |  0:00:15s\n",
      "epoch 14 | loss: 0.37453 | train_auc: 0.9126  | valid_auc: 0.91481 |  0:00:16s\n",
      "epoch 15 | loss: 0.37504 | train_auc: 0.91313 | valid_auc: 0.91352 |  0:00:17s\n",
      "epoch 16 | loss: 0.37081 | train_auc: 0.91422 | valid_auc: 0.91529 |  0:00:18s\n",
      "epoch 17 | loss: 0.36743 | train_auc: 0.913   | valid_auc: 0.91251 |  0:00:19s\n",
      "epoch 18 | loss: 0.37439 | train_auc: 0.91473 | valid_auc: 0.91439 |  0:00:21s\n",
      "epoch 19 | loss: 0.37784 | train_auc: 0.91469 | valid_auc: 0.91458 |  0:00:22s\n",
      "epoch 20 | loss: 0.36913 | train_auc: 0.91522 | valid_auc: 0.9131  |  0:00:23s\n",
      "epoch 21 | loss: 0.36238 | train_auc: 0.91664 | valid_auc: 0.91503 |  0:00:24s\n",
      "epoch 22 | loss: 0.36872 | train_auc: 0.9165  | valid_auc: 0.91439 |  0:00:25s\n",
      "epoch 23 | loss: 0.36992 | train_auc: 0.91692 | valid_auc: 0.91241 |  0:00:26s\n",
      "epoch 24 | loss: 0.36813 | train_auc: 0.91801 | valid_auc: 0.91401 |  0:00:27s\n",
      "epoch 25 | loss: 0.36369 | train_auc: 0.91621 | valid_auc: 0.91318 |  0:00:28s\n",
      "epoch 26 | loss: 0.35795 | train_auc: 0.91765 | valid_auc: 0.91471 |  0:00:29s\n",
      "epoch 27 | loss: 0.36211 | train_auc: 0.91799 | valid_auc: 0.91664 |  0:00:30s\n",
      "epoch 28 | loss: 0.36247 | train_auc: 0.91874 | valid_auc: 0.91612 |  0:00:32s\n",
      "epoch 29 | loss: 0.36092 | train_auc: 0.91701 | valid_auc: 0.91651 |  0:00:33s\n",
      "epoch 30 | loss: 0.36118 | train_auc: 0.91782 | valid_auc: 0.91557 |  0:00:34s\n",
      "epoch 31 | loss: 0.35856 | train_auc: 0.91908 | valid_auc: 0.9146  |  0:00:35s\n",
      "epoch 32 | loss: 0.35978 | train_auc: 0.91914 | valid_auc: 0.91565 |  0:00:36s\n",
      "epoch 33 | loss: 0.36638 | train_auc: 0.916   | valid_auc: 0.91397 |  0:00:37s\n",
      "epoch 34 | loss: 0.36434 | train_auc: 0.91891 | valid_auc: 0.91655 |  0:00:38s\n",
      "epoch 35 | loss: 0.35928 | train_auc: 0.92012 | valid_auc: 0.91548 |  0:00:39s\n",
      "epoch 36 | loss: 0.35748 | train_auc: 0.92059 | valid_auc: 0.91793 |  0:00:40s\n",
      "epoch 37 | loss: 0.35518 | train_auc: 0.91852 | valid_auc: 0.91822 |  0:00:41s\n",
      "epoch 38 | loss: 0.36422 | train_auc: 0.91976 | valid_auc: 0.91559 |  0:00:42s\n",
      "epoch 39 | loss: 0.3561  | train_auc: 0.9216  | valid_auc: 0.91522 |  0:00:43s\n",
      "epoch 40 | loss: 0.3585  | train_auc: 0.91893 | valid_auc: 0.91422 |  0:00:45s\n",
      "epoch 41 | loss: 0.36249 | train_auc: 0.91956 | valid_auc: 0.91333 |  0:00:46s\n",
      "epoch 42 | loss: 0.35988 | train_auc: 0.91772 | valid_auc: 0.91516 |  0:00:47s\n",
      "epoch 43 | loss: 0.36383 | train_auc: 0.92007 | valid_auc: 0.91538 |  0:00:48s\n",
      "epoch 44 | loss: 0.35698 | train_auc: 0.92009 | valid_auc: 0.91505 |  0:00:49s\n",
      "epoch 45 | loss: 0.35262 | train_auc: 0.92023 | valid_auc: 0.91306 |  0:00:50s\n",
      "epoch 46 | loss: 0.36177 | train_auc: 0.92024 | valid_auc: 0.91487 |  0:00:51s\n",
      "epoch 47 | loss: 0.36093 | train_auc: 0.91894 | valid_auc: 0.91427 |  0:00:52s\n",
      "epoch 48 | loss: 0.36113 | train_auc: 0.92105 | valid_auc: 0.91682 |  0:00:53s\n",
      "epoch 49 | loss: 0.35787 | train_auc: 0.9098  | valid_auc: 0.90267 |  0:00:54s\n",
      "epoch 50 | loss: 0.35834 | train_auc: 0.92163 | valid_auc: 0.91667 |  0:00:56s\n",
      "epoch 51 | loss: 0.35478 | train_auc: 0.92225 | valid_auc: 0.91519 |  0:00:57s\n",
      "epoch 52 | loss: 0.3548  | train_auc: 0.92188 | valid_auc: 0.91718 |  0:00:58s\n",
      "epoch 53 | loss: 0.35083 | train_auc: 0.92247 | valid_auc: 0.91813 |  0:00:59s\n",
      "epoch 54 | loss: 0.3537  | train_auc: 0.92316 | valid_auc: 0.91638 |  0:01:00s\n",
      "epoch 55 | loss: 0.35329 | train_auc: 0.92245 | valid_auc: 0.91591 |  0:01:02s\n",
      "epoch 56 | loss: 0.35632 | train_auc: 0.92229 | valid_auc: 0.91758 |  0:01:03s\n",
      "epoch 57 | loss: 0.35457 | train_auc: 0.92371 | valid_auc: 0.91697 |  0:01:04s\n",
      "\n",
      "Early stopping occurred at epoch 57 with best_epoch = 37 and best_valid_auc = 0.91822\n",
      "Best weights from best epoch are automatically used!\n",
      "epoch 0  | loss: 0.35897 | train_auc: 0.91816 | valid_auc: 0.91516 |  0:00:01s\n",
      "epoch 1  | loss: 0.36047 | train_auc: 0.91785 | valid_auc: 0.9159  |  0:00:02s\n",
      "epoch 2  | loss: 0.36631 | train_auc: 0.9185  | valid_auc: 0.91461 |  0:00:03s\n",
      "epoch 3  | loss: 0.36909 | train_auc: 0.91879 | valid_auc: 0.91559 |  0:00:04s\n",
      "epoch 4  | loss: 0.36619 | train_auc: 0.91983 | valid_auc: 0.91709 |  0:00:05s\n",
      "epoch 5  | loss: 0.363   | train_auc: 0.91997 | valid_auc: 0.91548 |  0:00:06s\n",
      "epoch 6  | loss: 0.355   | train_auc: 0.91853 | valid_auc: 0.91452 |  0:00:07s\n",
      "epoch 7  | loss: 0.35418 | train_auc: 0.92023 | valid_auc: 0.91365 |  0:00:08s\n",
      "epoch 8  | loss: 0.3526  | train_auc: 0.92009 | valid_auc: 0.9124  |  0:00:09s\n",
      "epoch 9  | loss: 0.35575 | train_auc: 0.92019 | valid_auc: 0.9147  |  0:00:10s\n",
      "epoch 10 | loss: 0.35496 | train_auc: 0.92154 | valid_auc: 0.91337 |  0:00:11s\n",
      "epoch 11 | loss: 0.35803 | train_auc: 0.92118 | valid_auc: 0.91429 |  0:00:13s\n",
      "epoch 12 | loss: 0.35708 | train_auc: 0.9224  | valid_auc: 0.91958 |  0:00:14s\n",
      "epoch 13 | loss: 0.35593 | train_auc: 0.92315 | valid_auc: 0.9191  |  0:00:15s\n",
      "epoch 14 | loss: 0.34518 | train_auc: 0.92158 | valid_auc: 0.91587 |  0:00:16s\n",
      "epoch 15 | loss: 0.35028 | train_auc: 0.92218 | valid_auc: 0.91107 |  0:00:17s\n",
      "epoch 16 | loss: 0.35592 | train_auc: 0.92337 | valid_auc: 0.91492 |  0:00:18s\n",
      "epoch 17 | loss: 0.35857 | train_auc: 0.92328 | valid_auc: 0.9139  |  0:00:19s\n",
      "epoch 18 | loss: 0.35488 | train_auc: 0.92154 | valid_auc: 0.91486 |  0:00:20s\n",
      "epoch 19 | loss: 0.35197 | train_auc: 0.92117 | valid_auc: 0.91284 |  0:00:21s\n",
      "epoch 20 | loss: 0.36037 | train_auc: 0.92433 | valid_auc: 0.91282 |  0:00:22s\n",
      "epoch 21 | loss: 0.34809 | train_auc: 0.92459 | valid_auc: 0.91178 |  0:00:24s\n",
      "epoch 22 | loss: 0.3601  | train_auc: 0.92319 | valid_auc: 0.91448 |  0:00:25s\n",
      "epoch 23 | loss: 0.35591 | train_auc: 0.92254 | valid_auc: 0.9099  |  0:00:26s\n",
      "epoch 24 | loss: 0.3529  | train_auc: 0.91971 | valid_auc: 0.91218 |  0:00:27s\n",
      "epoch 25 | loss: 0.36308 | train_auc: 0.92007 | valid_auc: 0.91528 |  0:00:28s\n",
      "epoch 26 | loss: 0.35428 | train_auc: 0.92298 | valid_auc: 0.91564 |  0:00:29s\n",
      "epoch 27 | loss: 0.35811 | train_auc: 0.92322 | valid_auc: 0.91671 |  0:00:30s\n",
      "epoch 28 | loss: 0.35242 | train_auc: 0.92455 | valid_auc: 0.91431 |  0:00:31s\n",
      "epoch 29 | loss: 0.35377 | train_auc: 0.92421 | valid_auc: 0.91335 |  0:00:32s\n",
      "epoch 30 | loss: 0.3506  | train_auc: 0.92489 | valid_auc: 0.91282 |  0:00:33s\n",
      "epoch 31 | loss: 0.35355 | train_auc: 0.92481 | valid_auc: 0.91439 |  0:00:34s\n",
      "epoch 32 | loss: 0.34607 | train_auc: 0.92478 | valid_auc: 0.914   |  0:00:36s\n",
      "\n",
      "Early stopping occurred at epoch 32 with best_epoch = 12 and best_valid_auc = 0.91958\n",
      "Best weights from best epoch are automatically used!\n"
     ]
    }
   ],
   "source": [
    "# This illustrates the warm_start=False behaviour\n",
    "save_history = []\n",
    "for _ in range(2):\n",
    "    clf.fit(\n",
    "        X_train=X_train, y_train=y_train,\n",
    "        eval_set=[(X_train, y_train), (X_valid, y_valid)],\n",
    "        eval_name=['train', 'valid'],\n",
    "        eval_metric=['auc'],\n",
    "        max_epochs=max_epochs , patience=20,\n",
    "        batch_size=1024, virtual_batch_size=128,\n",
    "        num_workers=0,\n",
    "        weights=1,\n",
    "        drop_last=False\n",
    "    )\n",
    "    save_history.append(clf.history[\"valid_auc\"])\n",
    "    \n",
    "#assert(np.all(np.array(save_history[0]==np.array(save_history[1]))))"
   ]
  },
  {
   "cell_type": "code",
   "execution_count": 56,
   "metadata": {},
   "outputs": [
    {
     "data": {
      "text/plain": [
       "[<matplotlib.lines.Line2D at 0x1bb0ab9f7f0>]"
      ]
     },
     "execution_count": 56,
     "metadata": {},
     "output_type": "execute_result"
    },
    {
     "data": {
      "image/png": "[encoded data removed]",
      "text/plain": [
       "<Figure size 432x288 with 1 Axes>"
      ]
     },
     "metadata": {
      "needs_background": "light"
     },
     "output_type": "display_data"
    }
   ],
   "source": [
    "# plot losses\n",
    "plt.plot(clf.history['loss'])"
   ]
  },
  {
   "cell_type": "code",
   "execution_count": 57,
   "metadata": {},
   "outputs": [
    {
     "data": {
      "text/plain": [
       "[<matplotlib.lines.Line2D at 0x1bb6cd9d6a0>]"
      ]
     },
     "execution_count": 57,
     "metadata": {},
     "output_type": "execute_result"
    },
    {
     "data": {
      "image/png": "[encoded data removed]",
      "text/plain": [
       "<Figure size 432x288 with 1 Axes>"
      ]
     },
     "metadata": {
      "needs_background": "light"
     },
     "output_type": "display_data"
    }
   ],
   "source": [
    "# plot auc\n",
    "plt.plot(clf.history['train_auc'])\n",
    "plt.plot(clf.history['valid_auc'])"
   ]
  },
  {
   "cell_type": "code",
   "execution_count": 58,
   "metadata": {},
   "outputs": [
    {
     "data": {
      "text/plain": [
       "[<matplotlib.lines.Line2D at 0x1bb0b32b490>]"
      ]
     },
     "execution_count": 58,
     "metadata": {},
     "output_type": "execute_result"
    },
    {
     "data": {
      "image/png": "[encoded data removed]",
      "text/plain": [
       "<Figure size 432x288 with 1 Axes>"
      ]
     },
     "metadata": {
      "needs_background": "light"
     },
     "output_type": "display_data"
    }
   ],
   "source": [
    "# plot learning rates\n",
    "plt.plot(clf.history['lr'])"
   ]
  },
  {
   "cell_type": "markdown",
   "metadata": {},
   "source": [
    "## Predictions"
   ]
  },
  {
   "cell_type": "code",
   "execution_count": 59,
   "metadata": {},
   "outputs": [
    {
     "name": "stdout",
     "output_type": "stream",
     "text": [
      "BEST VALID SCORE FOR census-income : 0.9195779981120294\n",
      "FINAL TEST SCORE FOR census-income : 0.9078044592529755\n"
     ]
    }
   ],
   "source": [
    "preds = clf.predict_proba(X_test)\n",
    "test_auc = roc_auc_score(y_score=preds[:,1], y_true=y_test)\n",
    "\n",
    "\n",
    "preds_valid = clf.predict_proba(X_valid)\n",
    "valid_auc = roc_auc_score(y_score=preds_valid[:,1], y_true=y_valid)\n",
    "\n",
    "print(f\"BEST VALID SCORE FOR {dataset_name} : {clf.best_cost}\")\n",
    "print(f\"FINAL TEST SCORE FOR {dataset_name} : {test_auc}\")"
   ]
  },
  {
   "cell_type": "code",
   "execution_count": 60,
   "metadata": {},
   "outputs": [],
   "source": [
    "# check that best weights are used\n",
    "assert np.isclose(valid_auc, np.max(clf.history['valid_auc']), atol=1e-6)"
   ]
  },
  {
   "cell_type": "code",
   "execution_count": 61,
   "metadata": {},
   "outputs": [
    {
     "data": {
      "text/plain": [
       "array(['not_wealthy', 'not_wealthy', 'wealthy', ..., 'not_wealthy',\n",
       "       'not_wealthy', 'wealthy'], dtype='<U11')"
      ]
     },
     "execution_count": 61,
     "metadata": {},
     "output_type": "execute_result"
    }
   ],
   "source": [
    "clf.predict(X_test)"
   ]
  },
  {
   "cell_type": "markdown",
   "metadata": {},
   "source": [
    "# Save and load Model"
   ]
  },
  {
   "cell_type": "code",
   "execution_count": 62,
   "metadata": {},
   "outputs": [
    {
     "name": "stdout",
     "output_type": "stream",
     "text": [
      "Successfully saved model at ./tabnet_model_test_1.zip\n"
     ]
    }
   ],
   "source": [
    "# save tabnet model\n",
    "saving_path_name = \"./tabnet_model_test_1\"\n",
    "saved_filepath = clf.save_model(saving_path_name)"
   ]
  },
  {
   "cell_type": "code",
   "execution_count": 63,
   "metadata": {},
   "outputs": [
    {
     "name": "stdout",
     "output_type": "stream",
     "text": [
      "Device used : cuda\n",
      "Device used : cuda\n"
     ]
    }
   ],
   "source": [
    "# define new model with basic parameters and load state dict weights\n",
    "loaded_clf = TabNetClassifier()\n",
    "loaded_clf.load_model(saved_filepath)"
   ]
  },
  {
   "cell_type": "code",
   "execution_count": 64,
   "metadata": {},
   "outputs": [
    {
     "name": "stdout",
     "output_type": "stream",
     "text": [
      "FINAL TEST SCORE FOR census-income : 0.9078044592529755\n"
     ]
    }
   ],
   "source": [
    "loaded_preds = loaded_clf.predict_proba(X_test)\n",
    "loaded_test_auc = roc_auc_score(y_score=loaded_preds[:,1], y_true=y_test)\n",
    "\n",
    "print(f\"FINAL TEST SCORE FOR {dataset_name} : {loaded_test_auc}\")"
   ]
  },
  {
   "cell_type": "code",
   "execution_count": 65,
   "metadata": {},
   "outputs": [],
   "source": [
    "assert(test_auc == loaded_test_auc)"
   ]
  },
  {
   "cell_type": "code",
   "execution_count": 66,
   "metadata": {},
   "outputs": [
    {
     "data": {
      "text/plain": [
       "array(['not_wealthy', 'not_wealthy', 'wealthy', ..., 'not_wealthy',\n",
       "       'not_wealthy', 'wealthy'], dtype='<U11')"
      ]
     },
     "execution_count": 66,
     "metadata": {},
     "output_type": "execute_result"
    }
   ],
   "source": [
    "loaded_clf.predict(X_test)"
   ]
  },
  {
   "cell_type": "markdown",
   "metadata": {},
   "source": [
    "# Global explainability : feat importance summing to 1"
   ]
  },
  {
   "cell_type": "code",
   "execution_count": 67,
   "metadata": {},
   "outputs": [
    {
     "data": {
      "text/plain": [
       "array([0.1380258 , 0.04361629, 0.01575761, 0.03607979, 0.13761124,\n",
       "       0.11759961, 0.02000795, 0.0598994 , 0.01971649, 0.03099307,\n",
       "       0.18001425, 0.08598629, 0.10802175, 0.00667047])"
      ]
     },
     "execution_count": 67,
     "metadata": {},
     "output_type": "execute_result"
    }
   ],
   "source": [
    "clf.feature_importances_"
   ]
  },
  {
   "cell_type": "markdown",
   "metadata": {},
   "source": [
    "# Local explainability and masks"
   ]
  },
  {
   "cell_type": "code",
   "execution_count": 68,
   "metadata": {},
   "outputs": [],
   "source": [
    "explain_matrix, masks = clf.explain(X_test)"
   ]
  },
  {
   "cell_type": "code",
   "execution_count": 69,
   "metadata": {},
   "outputs": [
    {
     "data": {
      "image/png": "[encoded data removed]",
      "text/plain": [
       "<Figure size 1440x1440 with 3 Axes>"
      ]
     },
     "metadata": {
      "needs_background": "light"
     },
     "output_type": "display_data"
    }
   ],
   "source": [
    "fig, axs = plt.subplots(1, 3, figsize=(20,20))\n",
    "\n",
    "for i in range(3):\n",
    "    axs[i].imshow(masks[i][:50])\n",
    "    axs[i].set_title(f\"mask {i}\")\n"
   ]
  },
  {
   "cell_type": "markdown",
   "metadata": {},
   "source": [
    "# XGB"
   ]
  },
  {
   "cell_type": "code",
   "execution_count": 70,
   "metadata": {
    "scrolled": true
   },
   "outputs": [
    {
     "ename": "ModuleNotFoundError",
     "evalue": "No module named 'xgboost'",
     "output_type": "error",
     "traceback": [
      "\u001b[1;31m---------------------------------------------------------------------------\u001b[0m",
      "\u001b[1;31mModuleNotFoundError\u001b[0m                       Traceback (most recent call last)",
      "\u001b[1;32m~\\AppData\\Local\\Temp/ipykernel_21732/1167922385.py\u001b[0m in \u001b[0;36m<module>\u001b[1;34m\u001b[0m\n\u001b[1;32m----> 1\u001b[1;33m \u001b[1;32mfrom\u001b[0m \u001b[0mxgboost\u001b[0m \u001b[1;32mimport\u001b[0m \u001b[0mXGBClassifier\u001b[0m\u001b[1;33m\u001b[0m\u001b[1;33m\u001b[0m\u001b[0m\n\u001b[0m\u001b[0;32m      2\u001b[0m \u001b[1;33m\u001b[0m\u001b[0m\n\u001b[0;32m      3\u001b[0m clf_xgb = XGBClassifier(max_depth=8,\n\u001b[0;32m      4\u001b[0m     \u001b[0mlearning_rate\u001b[0m\u001b[1;33m=\u001b[0m\u001b[1;36m0.1\u001b[0m\u001b[1;33m,\u001b[0m\u001b[1;33m\u001b[0m\u001b[1;33m\u001b[0m\u001b[0m\n\u001b[0;32m      5\u001b[0m     \u001b[0mn_estimators\u001b[0m\u001b[1;33m=\u001b[0m\u001b[1;36m1000\u001b[0m\u001b[1;33m,\u001b[0m\u001b[1;33m\u001b[0m\u001b[1;33m\u001b[0m\u001b[0m\n",
      "\u001b[1;31mModuleNotFoundError\u001b[0m: No module named 'xgboost'"
     ]
    }
   ],
   "source": [
    "from xgboost import XGBClassifier\n",
    "\n",
    "clf_xgb = XGBClassifier(max_depth=8,\n",
    "    learning_rate=0.1,\n",
    "    n_estimators=1000,\n",
    "    verbosity=0,\n",
    "    silent=None,\n",
    "    objective='binary:logistic',\n",
    "    booster='gbtree',\n",
    "    n_jobs=-1,\n",
    "    nthread=None,\n",
    "    gamma=0,\n",
    "    min_child_weight=1,\n",
    "    max_delta_step=0,\n",
    "    subsample=0.7,\n",
    "    colsample_bytree=1,\n",
    "    colsample_bylevel=1,\n",
    "    colsample_bynode=1,\n",
    "    reg_alpha=0,\n",
    "    reg_lambda=1,\n",
    "    scale_pos_weight=1,\n",
    "    base_score=0.5,\n",
    "    random_state=0,\n",
    "    seed=None,)\n",
    "\n",
    "clf_xgb.fit(X_train, y_train,\n",
    "        eval_set=[(X_valid, y_valid)],\n",
    "        early_stopping_rounds=40,\n",
    "        verbose=10)"
   ]
  },
  {
   "cell_type": "code",
   "execution_count": null,
   "metadata": {},
   "outputs": [],
   "source": [
    "preds = np.array(clf_xgb.predict_proba(X_valid))\n",
    "valid_auc = roc_auc_score(y_score=preds[:,1], y_true=y_valid)\n",
    "print(valid_auc)\n",
    "\n",
    "preds = np.array(clf_xgb.predict_proba(X_test))\n",
    "test_auc = roc_auc_score(y_score=preds[:,1], y_true=y_test)\n",
    "print(test_auc)"
   ]
  }
 ],
 "metadata": {
  "kernelspec": {
   "display_name": "Python 3",
   "language": "python",
   "name": "python3"
  },
  "language_info": {
   "codemirror_mode": {
    "name": "ipython",
    "version": 3
   },
   "file_extension": ".py",
   "mimetype": "text/x-python",
   "name": "python",
   "nbconvert_exporter": "python",
   "pygments_lexer": "ipython3",
   "version": "3.9.7"
  },
  "toc": {
   "base_numbering": 1,
   "nav_menu": {},
   "number_sections": true,
   "sideBar": true,
   "skip_h1_title": false,
   "title_cell": "Table of Contents",
   "title_sidebar": "Contents",
   "toc_cell": false,
   "toc_position": {},
   "toc_section_display": true,
   "toc_window_display": false
  }
 },
 "nbformat": 4,
 "nbformat_minor": 2
}
