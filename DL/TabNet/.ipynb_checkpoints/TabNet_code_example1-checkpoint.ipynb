{
 "cells": [
  {
   "cell_type": "markdown",
   "id": "7dbfd76d",
   "metadata": {},
   "source": [
    "# TabNet 코드 구현1"
   ]
  },
  {
   "cell_type": "markdown",
   "id": "eede70c1",
   "metadata": {},
   "source": [
    "##### import Library"
   ]
  },
  {
   "cell_type": "code",
   "execution_count": 14,
   "id": "e3692f06",
   "metadata": {},
   "outputs": [],
   "source": [
    "import os\n",
    "import numpy as np\n",
    "import pandas as pd\n",
    "from sklearn.metrics import roc_auc_score\n",
    "from sklearn.preprocessing import LabelEncoder\n",
    "from matplotlib import pyplot as plt\n",
    "\n",
    "import torch\n",
    "import torch.nn as nn\n",
    "from pytorch_tabnet.tab_model import TabNetClassifier"
   ]
  },
  {
   "cell_type": "markdown",
   "id": "dbfbdaba",
   "metadata": {},
   "source": [
    "(**pip install pytorch-tabnet 명령어를 사용하여 환경에 tabnet libraray를 먼저 설치해준다.)"
   ]
  },
  {
   "cell_type": "markdown",
   "id": "40727349",
   "metadata": {},
   "source": [
    "##### Data Load"
   ]
  },
  {
   "cell_type": "code",
   "execution_count": null,
   "id": "ab1f91fc",
   "metadata": {},
   "outputs": [],
   "source": [
    "train = pd.read_csv('../data/census-income.data',header=None)\n",
    "target = 41\n",
    "if \"Set\" not in train.columns:\n",
    "    train[\"Set\"] = np.random.choice([\"train\",\"valid\",\"test\"], p = [.8, .1, .1], size = (train.shape[0],))"
   ]
  }
 ],
 "metadata": {
  "kernelspec": {
   "display_name": "tf_gpu",
   "language": "python",
   "name": "tf_gpu"
  },
  "language_info": {
   "codemirror_mode": {
    "name": "ipython",
    "version": 3
   },
   "file_extension": ".py",
   "mimetype": "text/x-python",
   "name": "python",
   "nbconvert_exporter": "python",
   "pygments_lexer": "ipython3",
   "version": "3.9.7"
  }
 },
 "nbformat": 4,
 "nbformat_minor": 5
}
